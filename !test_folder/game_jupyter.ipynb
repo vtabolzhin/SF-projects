{
 "cells": [
  {
   "cell_type": "code",
   "execution_count": 1,
   "metadata": {},
   "outputs": [
    {
     "name": "stdout",
     "output_type": "stream",
     "text": [
      "Загадано число от 1 до 100\n",
      "50\n",
      "Загаданное число меньше 50\n",
      "25\n",
      "Загаданное число больше 25\n",
      "32\n",
      "Загаданное число больше 32\n",
      "40\n",
      "Загаданное число меньше 40\n",
      "36\n",
      "Вы угадали число за 5 попыток.\n"
     ]
    }
   ],
   "source": [
    "import numpy as np\n",
    "\n",
    "count = 0       # счетчик попыток\n",
    "number = np.random.randint(1,101)   # загадываем случайное число\n",
    "print(\"Загадано число от 1 до 100\")\n",
    "\n",
    "while True:                 # бескнечый цикл\n",
    "    predict = int(input())  # пытаемся угадать число вслепую\n",
    "    count += 1              # добавляем попытку в счетчик попыток\n",
    "    if number == predict: break # выход из цикла, если угадали\n",
    "    elif number > predict: print(f\"Загаданное число больше {predict}\")\n",
    "    else: print(f\"Загаданное число меньше {predict}\")\n",
    "print(f\"Вы угадали число за {count} попыток.\")"
   ]
  }
 ],
 "metadata": {
  "kernelspec": {
   "display_name": "Python 3",
   "language": "python",
   "name": "python3"
  },
  "language_info": {
   "codemirror_mode": {
    "name": "ipython",
    "version": 3
   },
   "file_extension": ".py",
   "mimetype": "text/x-python",
   "name": "python",
   "nbconvert_exporter": "python",
   "pygments_lexer": "ipython3",
   "version": "3.8.5"
  }
 },
 "nbformat": 4,
 "nbformat_minor": 4
}
